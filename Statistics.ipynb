{
 "cells": [
  {
   "cell_type": "code",
   "execution_count": null,
   "id": "e4f6db3f",
   "metadata": {},
   "outputs": [],
   "source": [
    "#Create class statistics and create all functions given a list of numbers. \n",
    "#Functions should include min, max, range, sum, mean ,median, mean absolute deviation, Variance, \n",
    "#Standard deviation, skewness, kurtosis, z score of each data point, Given two lists calculate covariance and correlation"
   ]
  },
  {
   "cell_type": "code",
   "execution_count": 12,
   "id": "279a61cd",
   "metadata": {},
   "outputs": [],
   "source": [
    "class Statistics:\n",
    "    \"\"\"\n",
    "    Statistics formulaes\n",
    "    \"\"\"\n",
    "    \n",
    "    def __init__(self, *num):\n",
    "        self.num=num\n",
    "        \n",
    "    def minimum(self):\n",
    "        m=min(self.num)\n",
    "        print(\"Minimum Value:\",m)\n",
    "        \n",
    "    def maximum(self):\n",
    "        ma=max(self.num)\n",
    "        print(\"Maximum Value:\",ma)\n",
    "        \n",
    "    def rangeNum(self):\n",
    "        r=max(self.num)-min(self.num)\n",
    "        print(\"Range:\",r)\n",
    "        \n",
    "    def summation(self):\n",
    "        s=sum(self.num)\n",
    "        print(\"Sum:\",s)\n",
    "     \n",
    "    def mean(self):\n",
    "        mean=sum(self.num)/len(self.num)\n",
    "        print(\"Mean:\",mean)\n",
    "        \n",
    "    def median(self):\n",
    "        m=list(self.num)\n",
    "        m.sort()\n",
    "        if len(m)%2==0:\n",
    "            med=(m[(len(m)-1)//2]+m[((len(m)-1)//2)+1])/2\n",
    "        else:\n",
    "            med=m[(len(m))//2]\n",
    "        print(\"Median:\",med)\n",
    "        \n",
    "    def meanAbsoluteDeviation(self):\n",
    "        s=0\n",
    "        mean=sum(self.num)/len(self.num)\n",
    "        for i in self.num:\n",
    "            s+=abs(i-mean)\n",
    "        mad=s/len(self.num)\n",
    "        print(\"Mean Absolute Deviation:\",mad)\n",
    "        \n",
    "    def variance(self):\n",
    "        s=0\n",
    "        mean=sum(self.num)/len(self.num)\n",
    "        for i in self.num:\n",
    "            s+=((i-mean)**2)\n",
    "        mad=s/len(self.num)\n",
    "        print(\"Variance:\",mad)\n",
    "        \n",
    "    def stdDevP(self):\n",
    "        s=0\n",
    "        mean=sum(self.num)/len(self.num)\n",
    "        for i in self.num:\n",
    "            s+=((i-mean)**2)\n",
    "        std_p=(s/len(self.num))**0.5\n",
    "        print(\"Standard Deviation for Population:\",std_p)\n",
    "        \n",
    "    def stdDevS(self):\n",
    "        s=0\n",
    "        mean=sum(self.num)/len(self.num)\n",
    "        for i in self.num:\n",
    "            s+=((i-mean)**2)\n",
    "        std_s=(s/(len(self.num)-1))*0.5\n",
    "        print(\"Standard Deviation for Sample:\",std_s)\n",
    "        \n",
    "    def moment(self, r):\n",
    "        self.r=r\n",
    "        s=0\n",
    "        mean=sum(self.num)/len(self.num)\n",
    "        for i in self.num:\n",
    "            s+=((i-mean)**r)\n",
    "        mo=s/len(self.num)\n",
    "        print(\"Moment Value:\",mo)\n",
    "        \n",
    "    def skew(self):\n",
    "        s=0\n",
    "        mean=sum(self.num)/len(self.num)\n",
    "        for i in self.num:\n",
    "            s+=((i-mean)**3)\n",
    "        mo=s/len(self.num)\n",
    "        s1=0\n",
    "        for i in self.num:\n",
    "            s1+=((i-mean)**2)\n",
    "        std_p=(s1/(len(self.num)-1))*0.5\n",
    "        skewness=mo/(std_p**3)\n",
    "        print(\"Skewness:\",skewness)\n",
    "        \n",
    "    def kurtosis(self):\n",
    "        s=0\n",
    "        mean=sum(self.num)/len(self.num)\n",
    "        for i in self.num:\n",
    "            s+=((i-mean)**4)\n",
    "        mo=s/len(self.num)\n",
    "        s1=0\n",
    "        for i in self.num:\n",
    "            s1+=((i-mean)**2)\n",
    "        var=s1/len(self.num)\n",
    "        k=mo/(var**2)\n",
    "        print(\"Kurtosis:\",k)\n",
    "        \n",
    "    def z_scores(self):\n",
    "        mean=sum(self.num)/len(self.num)\n",
    "        s=0\n",
    "        r=[]\n",
    "        for i in self.num:\n",
    "            s+=((i-mean)**2)\n",
    "        std_dev=(s/len(self.num))**0.5\n",
    "        for i in self.num:\n",
    "            r.append((i-mean)/std_dev)\n",
    "        print(\"z-scores:\",r)\n",
    "        \n",
    "    def covariance(self,l1,l2):\n",
    "        self.l1=l1\n",
    "        self.l2=l2\n",
    "        ml1=sum(l1)/len(l1)\n",
    "        ml2=sum(l2)/len(l2)\n",
    "        s=0\n",
    "        for i in range(len(l1)):\n",
    "            s+=((l1[i]-ml1)*(l2[i]-ml2))\n",
    "        c=s/len(l1)\n",
    "        print(\"Covariance:\",c)\n",
    "        \n",
    "    def correlation(self,l1,l2):\n",
    "        self.l1=l1\n",
    "        self.l2=l2\n",
    "        ml1=sum(l1)/len(l1)\n",
    "        ml2=sum(l2)/len(l2)\n",
    "        s,sl1,sl2=0,0,0\n",
    "        for i in range(len(l1)):\n",
    "            s+=((l1[i]-ml1)*(l2[i]-ml2))\n",
    "            sl1+=((l1[i]-ml1)**2)\n",
    "            sl2+=((l2[i]-ml2)**2)\n",
    "        corr=s/((sl1**0.5)*(sl2**0.5))\n",
    "        print(\"Correlation:\",corr)"
   ]
  },
  {
   "cell_type": "code",
   "execution_count": 2,
   "id": "b53b664a",
   "metadata": {},
   "outputs": [],
   "source": [
    "s1=Statistics(3,4,2,1,6,8,9,10)"
   ]
  },
  {
   "cell_type": "code",
   "execution_count": 3,
   "id": "f381c049",
   "metadata": {},
   "outputs": [
    {
     "name": "stdout",
     "output_type": "stream",
     "text": [
      "Mean: 5.375\n"
     ]
    }
   ],
   "source": [
    "s1.mean()"
   ]
  },
  {
   "cell_type": "code",
   "execution_count": 4,
   "id": "3cedf965",
   "metadata": {},
   "outputs": [
    {
     "name": "stdout",
     "output_type": "stream",
     "text": [
      "Mean Absolute Deviation: 2.875\n"
     ]
    }
   ],
   "source": [
    "s1.meanAbsoluteDeviation()"
   ]
  },
  {
   "cell_type": "code",
   "execution_count": 5,
   "id": "89f71016",
   "metadata": {},
   "outputs": [
    {
     "name": "stdout",
     "output_type": "stream",
     "text": [
      "Median: 5.0\n"
     ]
    }
   ],
   "source": [
    "s1.median()"
   ]
  },
  {
   "cell_type": "code",
   "execution_count": 6,
   "id": "cfc66b0e",
   "metadata": {},
   "outputs": [
    {
     "name": "stdout",
     "output_type": "stream",
     "text": [
      "Moment Value: 3.33984375\n"
     ]
    }
   ],
   "source": [
    "s1.moment(3)"
   ]
  },
  {
   "cell_type": "code",
   "execution_count": 24,
   "id": "63a636d0",
   "metadata": {},
   "outputs": [
    {
     "name": "stdout",
     "output_type": "stream",
     "text": [
      "Sum: 43\n"
     ]
    }
   ],
   "source": [
    "s1.summation()"
   ]
  },
  {
   "cell_type": "code",
   "execution_count": 8,
   "id": "f080aa9f",
   "metadata": {},
   "outputs": [
    {
     "name": "stdout",
     "output_type": "stream",
     "text": [
      "Minimum Value: 1\n"
     ]
    }
   ],
   "source": [
    "s1.minimum()"
   ]
  },
  {
   "cell_type": "code",
   "execution_count": 9,
   "id": "5808f3a4",
   "metadata": {},
   "outputs": [
    {
     "name": "stdout",
     "output_type": "stream",
     "text": [
      "Maximum Value: 10\n"
     ]
    }
   ],
   "source": [
    "s1.maximum()"
   ]
  },
  {
   "cell_type": "code",
   "execution_count": 10,
   "id": "c63cb9d8",
   "metadata": {},
   "outputs": [
    {
     "name": "stdout",
     "output_type": "stream",
     "text": [
      "Range: 9\n"
     ]
    }
   ],
   "source": [
    "s1.rangeNum()"
   ]
  },
  {
   "cell_type": "code",
   "execution_count": 13,
   "id": "c3093852",
   "metadata": {},
   "outputs": [
    {
     "name": "stdout",
     "output_type": "stream",
     "text": [
      "Standard Deviation for Population 3.1598061649411346\n"
     ]
    }
   ],
   "source": [
    "s1.stdDevP()"
   ]
  },
  {
   "cell_type": "code",
   "execution_count": 14,
   "id": "c5d1d5ca",
   "metadata": {},
   "outputs": [
    {
     "name": "stdout",
     "output_type": "stream",
     "text": [
      "Standard Deviation for Sample: 5.705357142857143\n"
     ]
    }
   ],
   "source": [
    "s1.stdDevS()"
   ]
  },
  {
   "cell_type": "code",
   "execution_count": 15,
   "id": "f89f3808",
   "metadata": {},
   "outputs": [
    {
     "name": "stdout",
     "output_type": "stream",
     "text": [
      "Skewness: 0.017983641770933395\n"
     ]
    }
   ],
   "source": [
    "s1.skew()"
   ]
  },
  {
   "cell_type": "code",
   "execution_count": 16,
   "id": "699b3cec",
   "metadata": {},
   "outputs": [
    {
     "name": "stdout",
     "output_type": "stream",
     "text": [
      "Kurtosis: 1.5164466192040087\n"
     ]
    }
   ],
   "source": [
    "s1.kurtosis()"
   ]
  },
  {
   "cell_type": "code",
   "execution_count": 23,
   "id": "ad57bc38",
   "metadata": {},
   "outputs": [
    {
     "name": "stdout",
     "output_type": "stream",
     "text": [
      "z-scores: [-0.7516283835227737, -0.43515327467107956, -1.0681034923744679, -1.384578601226162, 0.19779694303230888, 0.8307471607356973, 1.1472222695873915, 1.4636973784390857]\n"
     ]
    }
   ],
   "source": [
    "s1.z_scores()"
   ]
  },
  {
   "cell_type": "code",
   "execution_count": 18,
   "id": "aa431053",
   "metadata": {},
   "outputs": [],
   "source": [
    "s2=Statistics(50,55,60,65,70,100,1000)"
   ]
  },
  {
   "cell_type": "code",
   "execution_count": 19,
   "id": "49f88069",
   "metadata": {},
   "outputs": [
    {
     "name": "stdout",
     "output_type": "stream",
     "text": [
      "z-scores: [-0.4587931407588288, -0.44350003606686783, -0.4282069313749069, -0.41291382668294596, -0.39762072199098497, -0.3058620938392192, 2.4468967507137536]\n"
     ]
    }
   ],
   "source": [
    "s2.z_scores()"
   ]
  },
  {
   "cell_type": "code",
   "execution_count": 20,
   "id": "4789b8ef",
   "metadata": {},
   "outputs": [],
   "source": [
    "a=[5,8,15,13,7,18,25]\n",
    "b=[2,6,3,8,12,14,30]"
   ]
  },
  {
   "cell_type": "code",
   "execution_count": 21,
   "id": "ef3b8a25",
   "metadata": {},
   "outputs": [
    {
     "name": "stdout",
     "output_type": "stream",
     "text": [
      "Covariance: 45.42857142857143\n"
     ]
    }
   ],
   "source": [
    "s2.covariance(a,b)"
   ]
  },
  {
   "cell_type": "code",
   "execution_count": 22,
   "id": "569c2574",
   "metadata": {},
   "outputs": [
    {
     "name": "stdout",
     "output_type": "stream",
     "text": [
      "Correlation: 0.785892904998168\n"
     ]
    }
   ],
   "source": [
    "s2.correlation(a,b)"
   ]
  }
 ],
 "metadata": {
  "kernelspec": {
   "display_name": "Python 3 (ipykernel)",
   "language": "python",
   "name": "python3"
  },
  "language_info": {
   "codemirror_mode": {
    "name": "ipython",
    "version": 3
   },
   "file_extension": ".py",
   "mimetype": "text/x-python",
   "name": "python",
   "nbconvert_exporter": "python",
   "pygments_lexer": "ipython3",
   "version": "3.9.13"
  }
 },
 "nbformat": 4,
 "nbformat_minor": 5
}
