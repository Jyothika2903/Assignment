{
 "cells": [
  {
   "cell_type": "code",
   "execution_count": null,
   "id": "8a2220d2",
   "metadata": {},
   "outputs": [],
   "source": [
    "# Create a Function which can take any number of numerical arguments, \n",
    "# calculate Arithmetic Mean, Geometric Mean and Harmonic Mean\n",
    "# Arithmetic mean=(x1+x2+x3+....+xn)/n\n",
    "# Geometric mean=(x1*x2*...*xn)**(1/n)\n",
    "# Harmonic mean=n/((1/x1)+(1/x2)+....+(1/xn))"
   ]
  },
  {
   "cell_type": "code",
   "execution_count": 8,
   "id": "47a47126",
   "metadata": {},
   "outputs": [],
   "source": [
    "def mean(*args):\n",
    "    am=sum(args)/len(args)  # Arithmetic Mean\n",
    "    p,a=1,0\n",
    "    for i in args:\n",
    "        p*=i\n",
    "        a+=(1/i)\n",
    "    gm=p**(1/len(args))    # Geometric Mean\n",
    "    hm=len(args)/a         # Harmonic Mean\n",
    "    return am,gm,hm"
   ]
  },
  {
   "cell_type": "code",
   "execution_count": 9,
   "id": "e6309380",
   "metadata": {},
   "outputs": [
    {
     "data": {
      "text/plain": [
       "(5.0, 3.936283427035352, 2.797513321492007)"
      ]
     },
     "execution_count": 9,
     "metadata": {},
     "output_type": "execute_result"
    }
   ],
   "source": [
    "mean(1,3,5,7,9)"
   ]
  },
  {
   "cell_type": "code",
   "execution_count": 10,
   "id": "c78bebbc",
   "metadata": {},
   "outputs": [],
   "source": [
    "def mean1(*args):\n",
    "    am=sum(args)/len(args)  # Arithmetic Mean\n",
    "    p,a=1,0\n",
    "    for i in args:\n",
    "        p*=i\n",
    "        a+=(1/i)\n",
    "    gm=p**(1/len(args))    # Geometric Mean\n",
    "    hm=len(args)/a         # Harmonic Mean\n",
    "    print(\"Arithmetic Mean:\",am)\n",
    "    print(\"Geometric Mean:\",gm)\n",
    "    print(\"Harmonic Mean:\",hm)"
   ]
  },
  {
   "cell_type": "code",
   "execution_count": 12,
   "id": "9ff9e8b0",
   "metadata": {},
   "outputs": [
    {
     "name": "stdout",
     "output_type": "stream",
     "text": [
      "Arithmetic Mean: 6.857142857142857\n",
      "Geometric Mean: 5.374921713544796\n",
      "Harmonic Mean: 3.5846372688477954\n"
     ]
    }
   ],
   "source": [
    "mean1(1,3,5,8,9,10,12)"
   ]
  },
  {
   "cell_type": "markdown",
   "id": "71982483",
   "metadata": {},
   "source": []
  }
 ],
 "metadata": {
  "kernelspec": {
   "display_name": "Python 3 (ipykernel)",
   "language": "python",
   "name": "python3"
  },
  "language_info": {
   "codemirror_mode": {
    "name": "ipython",
    "version": 3
   },
   "file_extension": ".py",
   "mimetype": "text/x-python",
   "name": "python",
   "nbconvert_exporter": "python",
   "pygments_lexer": "ipython3",
   "version": "3.9.13"
  }
 },
 "nbformat": 4,
 "nbformat_minor": 5
}
