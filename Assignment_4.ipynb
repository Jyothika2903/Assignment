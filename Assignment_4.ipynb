{
 "cells": [
  {
   "cell_type": "code",
   "execution_count": null,
   "id": "901b6501",
   "metadata": {},
   "outputs": [],
   "source": [
    "# Create a Function which takes two lists as parameters, check whether two lists of same length, \n",
    "# if not same length return not same lenght. otherwise sort the first list in ascending order and \n",
    "# also sort the second list in liue of list 1\n",
    "#Ex:\n",
    "#Suppose l1 = [6,10,2,13,45,67,32,1] and l2 = [8,3,9,12,54,322,98,54]\n",
    "#sort the first list in ascending order l1_sorted = [1,2,6,10,13,32,45,67]\n",
    "#and list2 should be l2_updated as = [54,9,8,3,12,98,54, 322]\n",
    "\n",
    "#Rules to update List 2:\n",
    "#1. List2 element order should be according to l1_sorted index. \n",
    "#2. First value in l1_sorted is 1, before sorting index of 1 is 7, so list2_updated first value is 54, \n",
    "#which is 7th index before updating\n",
    "#3. Second value in l1_sorted is 2, before sorting index of 2 is 2,  so list2_updated second value is 9 \n",
    "#which is second index before updating\n",
    "#4. Third value in l1_sorted is 6, before sorting index of 6 is 0, so list2_updated third value is 8\n",
    "#which is 0th index before updating. \n",
    "#Similarly, update All the values of list2 by corresponding index values of list1 after sorting."
   ]
  },
  {
   "cell_type": "code",
   "execution_count": 1,
   "id": "fa38a64e",
   "metadata": {},
   "outputs": [],
   "source": [
    "def func(a,b):\n",
    "    if len(a)==len(b):\n",
    "        l3=a[:]\n",
    "        l3.sort()\n",
    "        l5=[]\n",
    "        for i in l3:\n",
    "            l5.append(b[a.index(i)])\n",
    "        print(\"l1 sorted list:\",l3)\n",
    "        print(\"l2 updated list:\",l5)\n",
    "    else:\n",
    "        print(\"Lists are not of Same Length\")"
   ]
  },
  {
   "cell_type": "code",
   "execution_count": 2,
   "id": "039761fa",
   "metadata": {},
   "outputs": [],
   "source": [
    "l1=[6,10,2,13,45,67,32,1]\n",
    "l2=[8,3,9,12,54,322,98,54]"
   ]
  },
  {
   "cell_type": "code",
   "execution_count": 3,
   "id": "354d0fca",
   "metadata": {},
   "outputs": [
    {
     "name": "stdout",
     "output_type": "stream",
     "text": [
      "l1 sorted list: [1, 2, 6, 10, 13, 32, 45, 67]\n",
      "l2 updated list: [54, 9, 8, 3, 12, 98, 54, 322]\n"
     ]
    }
   ],
   "source": [
    "func(l1,l2)"
   ]
  },
  {
   "cell_type": "code",
   "execution_count": 4,
   "id": "58a8e9bd",
   "metadata": {},
   "outputs": [],
   "source": [
    "l1=[1,2,8,6,5,4]\n",
    "l2=[4,5,6,3,9]"
   ]
  },
  {
   "cell_type": "code",
   "execution_count": 5,
   "id": "f9e74c22",
   "metadata": {},
   "outputs": [
    {
     "name": "stdout",
     "output_type": "stream",
     "text": [
      "Lists are not of Same Length\n"
     ]
    }
   ],
   "source": [
    "func(l1,l2)"
   ]
  }
 ],
 "metadata": {
  "kernelspec": {
   "display_name": "Python 3 (ipykernel)",
   "language": "python",
   "name": "python3"
  },
  "language_info": {
   "codemirror_mode": {
    "name": "ipython",
    "version": 3
   },
   "file_extension": ".py",
   "mimetype": "text/x-python",
   "name": "python",
   "nbconvert_exporter": "python",
   "pygments_lexer": "ipython3",
   "version": "3.9.13"
  }
 },
 "nbformat": 4,
 "nbformat_minor": 5
}
