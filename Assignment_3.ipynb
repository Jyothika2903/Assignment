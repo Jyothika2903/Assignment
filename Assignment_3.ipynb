{
 "cells": [
  {
   "cell_type": "code",
   "execution_count": null,
   "id": "3bbfa025",
   "metadata": {},
   "outputs": [],
   "source": [
    "#Create a Function, which takes three arguments, first argument should be dictionary, second argument should be integer, \n",
    "#third argument should be another dictionary. Based on the integer value (consider this as index, which starts at 0), \n",
    "#insert new dictionary values at index position in first dictionary, and return new dictionary.\n",
    "#Ex:\n",
    "#if {1:'One',2:'Two',3:'Three'}, 1, {4:'Four', 5:'Five', 6:'Six'} arguments are passed, \n",
    "# Because index 1 is given third parameter should be inserted at 1st index. \n",
    "# Note: Dictionary primary members are keys, not indexes, Dictionaries have no default insert method, so create one. \n",
    "#result should be {1:'One', 4:'Four', 5:'Five', 6:'Six', 2:'Two', 3:'Three'}. \n",
    "# If given number is greater than last index value of first dictionary, append new dictionary at the end of first dictionary."
   ]
  },
  {
   "cell_type": "code",
   "execution_count": 28,
   "id": "082156b1",
   "metadata": {},
   "outputs": [],
   "source": [
    "def func(x,y,z):\n",
    "    global r\n",
    "    j=0\n",
    "    r={}\n",
    "    if y<len(x):   \n",
    "        for i in list(x.keys()):\n",
    "            if y==j:\n",
    "                r.update(z)\n",
    "            r[i]=x[i]\n",
    "            j+=1\n",
    "        print(r)\n",
    "    else:\n",
    "        x.update(z)\n",
    "        print(x)    "
   ]
  },
  {
   "cell_type": "code",
   "execution_count": 29,
   "id": "b414ea65",
   "metadata": {},
   "outputs": [],
   "source": [
    "a={1:'One',2:'Two',3:'Three'}\n",
    "b={4:'Four',5:'Five',6:'Six'}"
   ]
  },
  {
   "cell_type": "code",
   "execution_count": 30,
   "id": "47cfabeb",
   "metadata": {},
   "outputs": [
    {
     "name": "stdout",
     "output_type": "stream",
     "text": [
      "{1: 'One', 4: 'Four', 5: 'Five', 6: 'Six', 2: 'Two', 3: 'Three'}\n"
     ]
    }
   ],
   "source": [
    "func(a,1,b)"
   ]
  },
  {
   "cell_type": "code",
   "execution_count": 31,
   "id": "0e6f198b",
   "metadata": {},
   "outputs": [
    {
     "name": "stdout",
     "output_type": "stream",
     "text": [
      "{1: 'One', 2: 'Two', 3: 'Three', 4: 'Four', 5: 'Five', 6: 'Six'}\n"
     ]
    }
   ],
   "source": [
    "func(a,6,b)"
   ]
  },
  {
   "cell_type": "code",
   "execution_count": null,
   "id": "b0fdcc6f",
   "metadata": {},
   "outputs": [],
   "source": []
  }
 ],
 "metadata": {
  "kernelspec": {
   "display_name": "Python 3 (ipykernel)",
   "language": "python",
   "name": "python3"
  },
  "language_info": {
   "codemirror_mode": {
    "name": "ipython",
    "version": 3
   },
   "file_extension": ".py",
   "mimetype": "text/x-python",
   "name": "python",
   "nbconvert_exporter": "python",
   "pygments_lexer": "ipython3",
   "version": "3.9.13"
  }
 },
 "nbformat": 4,
 "nbformat_minor": 5
}
