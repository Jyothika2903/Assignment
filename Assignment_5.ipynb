{
 "cells": [
  {
   "cell_type": "code",
   "execution_count": null,
   "id": "726a1bae",
   "metadata": {},
   "outputs": [],
   "source": [
    "#create a function, which takes string as argument, create all combinations\n",
    "#Ex: abcdefg\n",
    "#ans should be:\n",
    "#a, ab, abc, abcd, abcde, abcdef, abcdefg,\n",
    "#b, bc, bcd, bcde, bcdef, bcdefg,\n",
    "#c, cd, cde, cdef, cdefg, \n",
    "#d, de, def, defg, \n",
    "#e, ef, efg,\n",
    "#f, fg\n",
    "#g\n",
    "#Note: Do not use itertools combinations method . \n",
    "#Do it Manually"
   ]
  },
  {
   "cell_type": "code",
   "execution_count": 1,
   "id": "cdddd588",
   "metadata": {},
   "outputs": [],
   "source": [
    "def func(n):\n",
    "    for i in range(len(n)):\n",
    "        for j in range(i,len(n)):\n",
    "            print(n[i:j+1],end=\",\")"
   ]
  },
  {
   "cell_type": "code",
   "execution_count": 2,
   "id": "ea865cfc",
   "metadata": {},
   "outputs": [
    {
     "name": "stdout",
     "output_type": "stream",
     "text": [
      "a,ab,abc,abcd,abcde,abcdef,abcdefg,b,bc,bcd,bcde,bcdef,bcdefg,c,cd,cde,cdef,cdefg,d,de,def,defg,e,ef,efg,f,fg,g,"
     ]
    }
   ],
   "source": [
    "func(\"abcdefg\")"
   ]
  }
 ],
 "metadata": {
  "kernelspec": {
   "display_name": "Python 3 (ipykernel)",
   "language": "python",
   "name": "python3"
  },
  "language_info": {
   "codemirror_mode": {
    "name": "ipython",
    "version": 3
   },
   "file_extension": ".py",
   "mimetype": "text/x-python",
   "name": "python",
   "nbconvert_exporter": "python",
   "pygments_lexer": "ipython3",
   "version": "3.9.13"
  }
 },
 "nbformat": 4,
 "nbformat_minor": 5
}
