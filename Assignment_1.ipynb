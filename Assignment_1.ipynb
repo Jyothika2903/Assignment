{
 "cells": [
  {
   "cell_type": "code",
   "execution_count": null,
   "id": "92c0b822",
   "metadata": {},
   "outputs": [],
   "source": [
    "#1. While calculating the difference use bigger number first then smaller number next, if both are equal you can use any. \n",
    "#2. Do not use abs() method to make numbers positive, Follow first instruction. \n",
    "#3. This is Level 0 question (Very Easy/Basic)\n",
    "#Ex: Given list1 = [5,12,5,6,2,6,7,8] and list2 = [6,4,3,8,1,2,4,6], answer should be \n",
    "#(6-5)+(12-4)+(5-3)+(8-6)+(2-1)+(6-2)+(7-4)+(8-6) = 23"
   ]
  },
  {
   "cell_type": "code",
   "execution_count": 3,
   "id": "74ec5f14",
   "metadata": {},
   "outputs": [
    {
     "name": "stdout",
     "output_type": "stream",
     "text": [
      "23\n"
     ]
    }
   ],
   "source": [
    "list1=[5,12,5,6,2,6,7,8]\n",
    "list2=[6,4,3,8,1,2,4,6]\n",
    "s=0\n",
    "for i in range(len(list1)):\n",
    "    if list1[i]>=list2[i]:\n",
    "        s=s+(list1[i]-list2[i])\n",
    "    else:\n",
    "        s=s+(list2[i]-list1[i])\n",
    "print(s)"
   ]
  }
 ],
 "metadata": {
  "kernelspec": {
   "display_name": "Python 3 (ipykernel)",
   "language": "python",
   "name": "python3"
  },
  "language_info": {
   "codemirror_mode": {
    "name": "ipython",
    "version": 3
   },
   "file_extension": ".py",
   "mimetype": "text/x-python",
   "name": "python",
   "nbconvert_exporter": "python",
   "pygments_lexer": "ipython3",
   "version": "3.9.13"
  }
 },
 "nbformat": 4,
 "nbformat_minor": 5
}
