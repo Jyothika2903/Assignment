{
 "cells": [
  {
   "cell_type": "code",
   "execution_count": null,
   "id": "8a2220d2",
   "metadata": {},
   "outputs": [],
   "source": [
    "# Create a Function which can take any number of numerical arguments, \n",
    "# calculate Arithmetic Mean, Geometric Mean and Harmonic Mean\n",
    "# Arithmetic mean=(x1+x2+x3+....+xn)/n\n",
    "# Geometric mean=(x1*x2*...*xn)**(1/n)\n",
    "# Harmonic mean=n/((1/x1)+(1/x2)+....+(1/xn))"
   ]
  },
  {
   "cell_type": "code",
   "execution_count": 38,
   "id": "47a47126",
   "metadata": {},
   "outputs": [],
   "source": [
    "# Base logic\n",
    "def mean(*args):\n",
    "    am=sum(args)/len(args)  # Arithmetic Mean\n",
    "    p,a=1,0\n",
    "    for i in args:\n",
    "        p*=i\n",
    "        a+=(1/i)\n",
    "    gm=p**(1/len(args))    # Geometric Mean\n",
    "    hm=len(args)/a         # Harmonic Mean\n",
    "    return am,gm,hm"
   ]
  },
  {
   "cell_type": "code",
   "execution_count": 39,
   "id": "e6309380",
   "metadata": {},
   "outputs": [
    {
     "data": {
      "text/plain": [
       "(5.0, 3.936283427035352, 2.797513321492007)"
      ]
     },
     "execution_count": 39,
     "metadata": {},
     "output_type": "execute_result"
    }
   ],
   "source": [
    "mean(1,3,5,7,9)"
   ]
  },
  {
   "cell_type": "code",
   "execution_count": 23,
   "id": "c78bebbc",
   "metadata": {},
   "outputs": [],
   "source": [
    "# Using conditional statements handling the errors\n",
    "def mean1(*args):\n",
    "    if len(args)>0:\n",
    "        am=sum(args)/len(args)  # Arithmetic Mean\n",
    "        print(\"Arithmetic Mean:\",am)\n",
    "        p,a=1,0\n",
    "        for i in args:\n",
    "            p*=i\n",
    "        gm=p**(1/len(args))    # Geometric Mean\n",
    "        print(\"Geometric Mean:\",gm)\n",
    "        for i in args:\n",
    "            if i!=0:\n",
    "                a+=(1/i)\n",
    "            else:\n",
    "                print(\"Given values contain zero. So, we can't calculate harmonic mean\")\n",
    "                return\n",
    "        if a!=0:\n",
    "            hm=len(args)/a         # Harmonic Mean\n",
    "            print(\"Harmonic Mean:\",hm)\n",
    "        else:\n",
    "            print(\"The summation of value is zero. We can't calculate number by zero and harmonic mean can't be calculated\")\n",
    "    else:\n",
    "        print(\"Enter the values because the function needs values for calculation\")"
   ]
  },
  {
   "cell_type": "code",
   "execution_count": 18,
   "id": "9ff9e8b0",
   "metadata": {},
   "outputs": [
    {
     "name": "stdout",
     "output_type": "stream",
     "text": [
      "Arithmetic Mean: 6.857142857142857\n",
      "Geometric Mean: 5.374921713544796\n",
      "Harmonic Mean: 3.5846372688477954\n"
     ]
    }
   ],
   "source": [
    "mean1(1,3,5,8,9,10,12)"
   ]
  },
  {
   "cell_type": "code",
   "execution_count": 19,
   "id": "315b3af8",
   "metadata": {},
   "outputs": [
    {
     "name": "stdout",
     "output_type": "stream",
     "text": [
      "Enter the values because the function needs values for calculation\n"
     ]
    }
   ],
   "source": [
    "mean1()"
   ]
  },
  {
   "cell_type": "code",
   "execution_count": 20,
   "id": "ad63e4a2",
   "metadata": {},
   "outputs": [
    {
     "name": "stdout",
     "output_type": "stream",
     "text": [
      "Arithmetic Mean: 4.333333333333333\n",
      "Geometric Mean: 0.0\n",
      "Given values contain zero. So, we can't calculate harmonic mean\n"
     ]
    }
   ],
   "source": [
    "mean1(2,3,4,0,8,9)"
   ]
  },
  {
   "cell_type": "code",
   "execution_count": 22,
   "id": "942931e1",
   "metadata": {},
   "outputs": [
    {
     "name": "stdout",
     "output_type": "stream",
     "text": [
      "Arithmetic Mean: 0.0\n",
      "Geometric Mean: (6.123233995736766e-17+1j)\n",
      "The summation of value is zero. We can't calculate number by zero and harmonic mean can't be calculated\n"
     ]
    }
   ],
   "source": [
    "mean1(1,-1)"
   ]
  },
  {
   "cell_type": "code",
   "execution_count": 34,
   "id": "27f09dfa",
   "metadata": {},
   "outputs": [],
   "source": [
    "# Using try and except block handling the errors\n",
    "def mean2(*args):\n",
    "    try:\n",
    "        am=sum(args)/len(args)  # Arithmetic Mean\n",
    "        print(\"Arithmetic Mean:\",am)\n",
    "        p,a=1,0\n",
    "        for i in args:\n",
    "            p*=i\n",
    "        gm=p**(1/len(args))    # Geometric Mean\n",
    "        print(\"Geometric Mean:\",gm)\n",
    "        for i in args:\n",
    "            try:\n",
    "                a+=(1/i)\n",
    "            except:\n",
    "                print(\"Given values contain zero. So, we can't calculate harmonic mean\")\n",
    "                return\n",
    "        try:\n",
    "            hm=len(args)/a         # Harmonic Mean\n",
    "            print(\"Harmonic Mean:\",hm)\n",
    "        except:\n",
    "            print(\"The summation of value is zero. We can't calculate number by zero and harmonic mean can't be calculated\")\n",
    "    except:\n",
    "        print(\"Enter the values because the function needs values for calculation\")"
   ]
  },
  {
   "cell_type": "code",
   "execution_count": 31,
   "id": "ed921f13",
   "metadata": {},
   "outputs": [
    {
     "name": "stdout",
     "output_type": "stream",
     "text": [
      "Enter the values because the function needs values for calculation\n"
     ]
    }
   ],
   "source": [
    "mean2()"
   ]
  },
  {
   "cell_type": "code",
   "execution_count": 32,
   "id": "6202f4d6",
   "metadata": {},
   "outputs": [
    {
     "name": "stdout",
     "output_type": "stream",
     "text": [
      "Arithmetic Mean: 0.0\n",
      "Geometric Mean: (6.123233995736766e-17+1j)\n",
      "The summation of value is zero. We can't calculate number by zero and harmonic mean can't be calculated\n"
     ]
    }
   ],
   "source": [
    "mean2(1,-1)"
   ]
  },
  {
   "cell_type": "code",
   "execution_count": 35,
   "id": "adaf6fcf",
   "metadata": {},
   "outputs": [
    {
     "name": "stdout",
     "output_type": "stream",
     "text": [
      "Arithmetic Mean: 4.333333333333333\n",
      "Geometric Mean: 0.0\n",
      "Given values contain zero. So, we can't calculate harmonic mean\n"
     ]
    }
   ],
   "source": [
    "mean2(2,3,4,0,8,9)"
   ]
  },
  {
   "cell_type": "code",
   "execution_count": 36,
   "id": "4e1da328",
   "metadata": {},
   "outputs": [
    {
     "name": "stdout",
     "output_type": "stream",
     "text": [
      "Arithmetic Mean: 6.857142857142857\n",
      "Geometric Mean: 5.374921713544796\n",
      "Harmonic Mean: 3.5846372688477954\n"
     ]
    }
   ],
   "source": [
    "mean2(1,3,5,8,9,10,12)"
   ]
  },
  {
   "cell_type": "code",
   "execution_count": null,
   "id": "ce5f6dc8",
   "metadata": {},
   "outputs": [],
   "source": []
  }
 ],
 "metadata": {
  "kernelspec": {
   "display_name": "Python 3 (ipykernel)",
   "language": "python",
   "name": "python3"
  },
  "language_info": {
   "codemirror_mode": {
    "name": "ipython",
    "version": 3
   },
   "file_extension": ".py",
   "mimetype": "text/x-python",
   "name": "python",
   "nbconvert_exporter": "python",
   "pygments_lexer": "ipython3",
   "version": "3.9.13"
  }
 },
 "nbformat": 4,
 "nbformat_minor": 5
}
