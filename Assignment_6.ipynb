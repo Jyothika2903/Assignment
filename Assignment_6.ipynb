{
 "cells": [
  {
   "cell_type": "code",
   "execution_count": null,
   "id": "9192836e",
   "metadata": {},
   "outputs": [],
   "source": [
    "#Write a Python function that generates all possible subsets of a given list recursively.\n",
    "#For example, if the input list is [1, 2, 3], \n",
    "#the output should be [], [1], [2], [3], [1, 2], [1, 3], [2, 3], [1, 2, 3]."
   ]
  },
  {
   "cell_type": "code",
   "execution_count": 1,
   "id": "01ea9844",
   "metadata": {},
   "outputs": [],
   "source": [
    "def func(n):\n",
    "    if n==[]:\n",
    "        return [[]]\n",
    "    else:\n",
    "        r=func(n[1:])\n",
    "        return r + [ [n[0]] + i for i in r]"
   ]
  },
  {
   "cell_type": "code",
   "execution_count": 2,
   "id": "8a8faa4f",
   "metadata": {},
   "outputs": [],
   "source": [
    "l1=[1,2,3]"
   ]
  },
  {
   "cell_type": "code",
   "execution_count": 3,
   "id": "26f3eb9a",
   "metadata": {},
   "outputs": [
    {
     "data": {
      "text/plain": [
       "[[], [3], [2], [2, 3], [1], [1, 3], [1, 2], [1, 2, 3]]"
      ]
     },
     "execution_count": 3,
     "metadata": {},
     "output_type": "execute_result"
    }
   ],
   "source": [
    "func(l1)"
   ]
  }
 ],
 "metadata": {
  "kernelspec": {
   "display_name": "Python 3 (ipykernel)",
   "language": "python",
   "name": "python3"
  },
  "language_info": {
   "codemirror_mode": {
    "name": "ipython",
    "version": 3
   },
   "file_extension": ".py",
   "mimetype": "text/x-python",
   "name": "python",
   "nbconvert_exporter": "python",
   "pygments_lexer": "ipython3",
   "version": "3.9.13"
  }
 },
 "nbformat": 4,
 "nbformat_minor": 5
}
